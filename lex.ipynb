{
 "cells": [
  {
   "cell_type": "code",
   "execution_count": 4,
   "metadata": {},
   "outputs": [],
   "source": [
    "import pandas as pd\n",
    "import numpy as np\n",
    "from datasets import Dataset, load_from_disk\n",
    "import faiss\n",
    "from transformers import RagTokenizer, RagRetriever, RagSequenceForGeneration"
   ]
  },
  {
   "cell_type": "code",
   "execution_count": 6,
   "metadata": {},
   "outputs": [],
   "source": [
    "df = pd.read_csv('podcastdata_dataset.csv')\n",
    "def preprocess_tolower(text):\n",
    "    text=text.lower()\n",
    "    return text\n",
    "\n",
    "df['text']=df['text'].apply(preprocess_tolower)\n",
    "\n",
    "passages = []\n",
    "for index, row in df.iterrows():\n",
    "    transcript = row['text']\n",
    "    passages.extend(transcript[i:i + 1000] for i in range(0, len(transcript), 1000))\n",
    "\n",
    "passages_df = pd.DataFrame(passages, columns=['Passages'])\n",
    "passages_df.to_csv('passages.tsv', sep='\\t', index=False)"
   ]
  },
  {
   "cell_type": "code",
   "execution_count": 7,
   "metadata": {},
   "outputs": [
    {
     "name": "stderr",
     "output_type": "stream",
     "text": [
      "Map: 100%|██████████| 38000/38000 [00:00<00:00, 45051.51 examples/s]\n",
      "Map: 100%|██████████| 38000/38000 [00:00<00:00, 100841.20 examples/s]\n",
      "Saving the dataset (1/1 shards): 100%|██████████| 38000/38000 [00:00<00:00, 52284.79 examples/s]\n",
      "100%|██████████| 38/38 [00:00<00:00, 428.16it/s]\n"
     ]
    }
   ],
   "source": [
    "\n",
    "dataset = Dataset.from_dict({\"text\": passages})\n",
    "dataset = dataset.map(lambda example: {\"title\": example[\"text\"]})\n",
    "\n",
    "#normal embed function for demo\n",
    "def embed(texts):\n",
    "    return np.random.random((len(texts), 768)).astype(\"float32\")\n",
    "\n",
    "\n",
    "dataset = dataset.map(lambda examples: {\"embeddings\": embed(examples[\"text\"])}, batched=True)\n",
    "\n",
    "dataset_path = \"passages_dataset\"\n",
    "dataset.save_to_disk(dataset_path)\n",
    "\n",
    "dataset.add_faiss_index(column=\"embeddings\", index_name=\"embeddings\")\n",
    "\n",
    "index_path = \"passages_index.faiss\"\n",
    "dataset.get_index(\"embeddings\").save(index_path)\n",
    "\n",
    "dataset = load_from_disk(dataset_path)\n",
    "dataset.load_faiss_index(index_name=\"embeddings\", file=index_path)"
   ]
  },
  {
   "cell_type": "code",
   "execution_count": null,
   "metadata": {},
   "outputs": [],
   "source": [
    "\n",
    "tokenizer = RagTokenizer.from_pretrained('facebook/rag-sequence-nq')\n",
    "retriever = RagRetriever.from_pretrained(\n",
    "    'facebook/rag-sequence-nq',\n",
    "    index_name=\"custom\",\n",
    "    indexed_dataset=dataset\n",
    ")\n",
    "\n",
    "\n"
   ]
  }
 ],
 "metadata": {
  "kernelspec": {
   "display_name": "rag_env",
   "language": "python",
   "name": "python3"
  },
  "language_info": {
   "codemirror_mode": {
    "name": "ipython",
    "version": 3
   },
   "file_extension": ".py",
   "mimetype": "text/x-python",
   "name": "python",
   "nbconvert_exporter": "python",
   "pygments_lexer": "ipython3",
   "version": "3.10.11"
  }
 },
 "nbformat": 4,
 "nbformat_minor": 2
}
